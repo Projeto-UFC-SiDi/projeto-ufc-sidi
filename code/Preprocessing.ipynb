{
 "cells": [
  {
   "cell_type": "code",
   "execution_count": 1,
   "metadata": {},
   "outputs": [],
   "source": [
    "import pandas as pd\n",
    "import numpy as np\n",
    "import warnings\n",
    "warnings.filterwarnings('ignore')"
   ]
  },
  {
   "cell_type": "code",
   "execution_count": 2,
   "metadata": {},
   "outputs": [],
   "source": [
    "filepath = 'base.csv'\n",
    "df_c = pd.read_csv(filepath)"
   ]
  },
  {
   "cell_type": "code",
   "execution_count": 3,
   "metadata": {},
   "outputs": [],
   "source": [
    "df_c.loc[(df_c.label == '-   Malicious   PartOfAHorizontalPortScan'), 'label'] = 'PartOfAHorizontalPortScan'\n",
    "df_c.loc[(df_c.label == '(empty)   Malicious   PartOfAHorizontalPortScan'), 'label'] = 'PartOfAHorizontalPortScan'\n",
    "df_c.loc[(df_c.label == '-   Malicious   Okiru'), 'label'] = 'Okiru'\n",
    "df_c.loc[(df_c.label == '(empty)   Malicious   Okiru'), 'label'] = 'Okiru'\n",
    "df_c.loc[(df_c.label == '-   Benign   -'), 'label'] = 'Benign'\n",
    "df_c.loc[(df_c.label == '(empty)   Benign   -'), 'label'] = 'Benign'\n",
    "df_c.loc[(df_c.label == '-   Malicious   DDoS'), 'label'] = 'DDoS'\n",
    "df_c.loc[(df_c.label == '-   Malicious   C&C'), 'label'] = 'C&C'\n",
    "df_c.loc[(df_c.label == '(empty)   Malicious   C&C'), 'label'] = 'C&C'\n",
    "df_c.loc[(df_c.label == '-   Malicious   Attack'), 'label'] = 'Attack'\n",
    "df_c.loc[(df_c.label == '(empty)   Malicious   Attack'), 'label'] = 'Attack'\n",
    "df_c.loc[(df_c.label == '-   Malicious   C&C-HeartBeat'), 'label'] = 'C&C-HeartBeat'\n",
    "df_c.loc[(df_c.label == '(empty)   Malicious   C&C-HeartBeat'), 'label'] = 'C&C-HeartBeat'\n",
    "df_c.loc[(df_c.label == '-   Malicious   C&C-FileDownload'), 'label'] = 'C&C-FileDownload'\n",
    "df_c.loc[(df_c.label == '-   Malicious   C&C-Torii'), 'label'] = 'C&C-Torii'\n",
    "df_c.loc[(df_c.label == '-   Malicious   C&C-HeartBeat-FileDownload'), 'label'] = 'C&C-HeartBeat-FileDownload'\n",
    "df_c.loc[(df_c.label == '-   Malicious   FileDownload'), 'label'] = 'FileDownload'\n",
    "df_c.loc[(df_c.label == '-   Malicious   C&C-Mirai'), 'label'] = 'C&C-Mirai'\n",
    "df_c.loc[(df_c.label == '-   Malicious   Okiru-Attack'), 'label'] = 'Okiru-Attack'"
   ]
  },
  {
   "cell_type": "code",
   "execution_count": 4,
   "metadata": {},
   "outputs": [
    {
     "name": "stdout",
     "output_type": "stream",
     "text": [
      "<class 'pandas.core.frame.DataFrame'>\n",
      "RangeIndex: 1444674 entries, 0 to 1444673\n",
      "Data columns (total 21 columns):\n",
      " #   Column         Non-Null Count    Dtype  \n",
      "---  ------         --------------    -----  \n",
      " 0   ts             1444674 non-null  float64\n",
      " 1   uid            1444674 non-null  object \n",
      " 2   id.orig_h      1444674 non-null  object \n",
      " 3   id.orig_p      1444674 non-null  float64\n",
      " 4   id.resp_h      1444674 non-null  object \n",
      " 5   id.resp_p      1444674 non-null  float64\n",
      " 6   proto          1444674 non-null  object \n",
      " 7   service        1444674 non-null  object \n",
      " 8   duration       1444674 non-null  object \n",
      " 9   orig_bytes     1444674 non-null  object \n",
      " 10  resp_bytes     1444674 non-null  object \n",
      " 11  conn_state     1444674 non-null  object \n",
      " 12  local_orig     1444674 non-null  object \n",
      " 13  local_resp     1444674 non-null  object \n",
      " 14  missed_bytes   1444674 non-null  float64\n",
      " 15  history        1444674 non-null  object \n",
      " 16  orig_pkts      1444674 non-null  float64\n",
      " 17  orig_ip_bytes  1444674 non-null  float64\n",
      " 18  resp_pkts      1444674 non-null  float64\n",
      " 19  resp_ip_bytes  1444674 non-null  float64\n",
      " 20  label          1444674 non-null  object \n",
      "dtypes: float64(8), object(13)\n",
      "memory usage: 231.5+ MB\n"
     ]
    }
   ],
   "source": [
    "df_c.info()"
   ]
  },
  {
   "cell_type": "markdown",
   "metadata": {},
   "source": [
    "### Dropar features"
   ]
  },
  {
   "cell_type": "code",
   "execution_count": 5,
   "metadata": {},
   "outputs": [],
   "source": [
    "df_c = df_c.drop(columns=['uid', 'history', 'ts', 'id.orig_h', 'id.resp_h', 'local_orig', 'local_resp', 'resp_pkts'])"
   ]
  },
  {
   "cell_type": "code",
   "execution_count": 6,
   "metadata": {},
   "outputs": [
    {
     "data": {
      "text/plain": [
       "(1444674, 13)"
      ]
     },
     "execution_count": 6,
     "metadata": {},
     "output_type": "execute_result"
    }
   ],
   "source": [
    "df_c.shape"
   ]
  },
  {
   "cell_type": "markdown",
   "metadata": {},
   "source": [
    "### One-hot encoding: get dummies"
   ]
  },
  {
   "cell_type": "code",
   "execution_count": 7,
   "metadata": {},
   "outputs": [],
   "source": [
    "df_c = pd.get_dummies(df_c, columns=['proto'])\n",
    "df_c = pd.get_dummies(df_c, columns=['conn_state'])"
   ]
  },
  {
   "cell_type": "code",
   "execution_count": 8,
   "metadata": {},
   "outputs": [
    {
     "data": {
      "text/plain": [
       "PartOfAHorizontalPortScan     825939\n",
       "Okiru                         262690\n",
       "Benign                        197809\n",
       "DDoS                          138777\n",
       "C&C                            15100\n",
       "Attack                          3915\n",
       "C&C-HeartBeat                    349\n",
       "C&C-FileDownload                  43\n",
       "C&C-Torii                         30\n",
       "FileDownload                      13\n",
       "C&C-HeartBeat-FileDownload         8\n",
       "C&C-Mirai                          1\n",
       "Name: label, dtype: int64"
      ]
     },
     "execution_count": 8,
     "metadata": {},
     "output_type": "execute_result"
    }
   ],
   "source": [
    "df_c['label'].value_counts()"
   ]
  },
  {
   "cell_type": "code",
   "execution_count": 10,
   "metadata": {},
   "outputs": [
    {
     "data": {
      "text/plain": [
       "(1444674, 27)"
      ]
     },
     "execution_count": 10,
     "metadata": {},
     "output_type": "execute_result"
    }
   ],
   "source": [
    "df_c.shape"
   ]
  },
  {
   "cell_type": "markdown",
   "metadata": {},
   "source": [
    "### Pandas Profiling"
   ]
  },
  {
   "cell_type": "code",
   "execution_count": 22,
   "metadata": {},
   "outputs": [],
   "source": [
    "from pandas_profiling import ProfileReport"
   ]
  },
  {
   "cell_type": "code",
   "execution_count": 25,
   "metadata": {},
   "outputs": [
    {
     "data": {
      "application/vnd.jupyter.widget-view+json": {
       "model_id": "6df06b450c7948e9b12bdaee552568e2",
       "version_major": 2,
       "version_minor": 0
      },
      "text/plain": [
       "Summarize dataset:   0%|          | 0/5 [00:00<?, ?it/s]"
      ]
     },
     "metadata": {},
     "output_type": "display_data"
    },
    {
     "data": {
      "application/vnd.jupyter.widget-view+json": {
       "model_id": "be68b44cc1804c31ad37827915eadde4",
       "version_major": 2,
       "version_minor": 0
      },
      "text/plain": [
       "Generate report structure:   0%|          | 0/1 [00:00<?, ?it/s]"
      ]
     },
     "metadata": {},
     "output_type": "display_data"
    },
    {
     "data": {
      "application/vnd.jupyter.widget-view+json": {
       "model_id": "73c6ba491b9649c8839284a879f6339e",
       "version_major": 2,
       "version_minor": 0
      },
      "text/plain": [
       "Render HTML:   0%|          | 0/1 [00:00<?, ?it/s]"
      ]
     },
     "metadata": {},
     "output_type": "display_data"
    },
    {
     "data": {
      "application/vnd.jupyter.widget-view+json": {
       "model_id": "0b60664441ba4535ab86ce9afba45fea",
       "version_major": 2,
       "version_minor": 0
      },
      "text/plain": [
       "Export report to file:   0%|          | 0/1 [00:00<?, ?it/s]"
      ]
     },
     "metadata": {},
     "output_type": "display_data"
    }
   ],
   "source": [
    "prof = ProfileReport(df_c, minimal=True)\n",
    "prof.to_file(output_file='report.html')"
   ]
  },
  {
   "cell_type": "markdown",
   "metadata": {},
   "source": [
    "### Inspeção de features: missed_bytes, orig_bytes, duration, resp_bytes, service"
   ]
  },
  {
   "cell_type": "code",
   "execution_count": 13,
   "metadata": {},
   "outputs": [],
   "source": [
    "pd.options.display.max_columns = 50"
   ]
  },
  {
   "cell_type": "code",
   "execution_count": 14,
   "metadata": {},
   "outputs": [
    {
     "data": {
      "text/html": [
       "<div>\n",
       "<style scoped>\n",
       "    .dataframe tbody tr th:only-of-type {\n",
       "        vertical-align: middle;\n",
       "    }\n",
       "\n",
       "    .dataframe tbody tr th {\n",
       "        vertical-align: top;\n",
       "    }\n",
       "\n",
       "    .dataframe thead th {\n",
       "        text-align: right;\n",
       "    }\n",
       "</style>\n",
       "<table border=\"1\" class=\"dataframe\">\n",
       "  <thead>\n",
       "    <tr style=\"text-align: right;\">\n",
       "      <th></th>\n",
       "      <th>id.orig_p</th>\n",
       "      <th>id.resp_p</th>\n",
       "      <th>missed_bytes</th>\n",
       "      <th>orig_pkts</th>\n",
       "      <th>orig_ip_bytes</th>\n",
       "      <th>resp_ip_bytes</th>\n",
       "      <th>proto_icmp</th>\n",
       "      <th>proto_tcp</th>\n",
       "      <th>proto_udp</th>\n",
       "      <th>conn_state_OTH</th>\n",
       "      <th>conn_state_REJ</th>\n",
       "      <th>conn_state_RSTO</th>\n",
       "      <th>conn_state_RSTOS0</th>\n",
       "      <th>conn_state_RSTR</th>\n",
       "      <th>conn_state_RSTRH</th>\n",
       "      <th>conn_state_S0</th>\n",
       "      <th>conn_state_S1</th>\n",
       "      <th>conn_state_S2</th>\n",
       "      <th>conn_state_S3</th>\n",
       "      <th>conn_state_SF</th>\n",
       "      <th>conn_state_SH</th>\n",
       "      <th>conn_state_SHR</th>\n",
       "    </tr>\n",
       "  </thead>\n",
       "  <tbody>\n",
       "    <tr>\n",
       "      <th>count</th>\n",
       "      <td>1.444674e+06</td>\n",
       "      <td>1.444674e+06</td>\n",
       "      <td>1.444674e+06</td>\n",
       "      <td>1.444674e+06</td>\n",
       "      <td>1.444674e+06</td>\n",
       "      <td>1.444674e+06</td>\n",
       "      <td>1.444674e+06</td>\n",
       "      <td>1.444674e+06</td>\n",
       "      <td>1.444674e+06</td>\n",
       "      <td>1.444674e+06</td>\n",
       "      <td>1.444674e+06</td>\n",
       "      <td>1.444674e+06</td>\n",
       "      <td>1.444674e+06</td>\n",
       "      <td>1.444674e+06</td>\n",
       "      <td>1.444674e+06</td>\n",
       "      <td>1.444674e+06</td>\n",
       "      <td>1.444674e+06</td>\n",
       "      <td>1.444674e+06</td>\n",
       "      <td>1.444674e+06</td>\n",
       "      <td>1.444674e+06</td>\n",
       "      <td>1.444674e+06</td>\n",
       "      <td>1.444674e+06</td>\n",
       "    </tr>\n",
       "    <tr>\n",
       "      <th>mean</th>\n",
       "      <td>3.711644e+04</td>\n",
       "      <td>1.759793e+04</td>\n",
       "      <td>1.989258e-01</td>\n",
       "      <td>1.780510e+02</td>\n",
       "      <td>7.745525e+03</td>\n",
       "      <td>2.846040e+01</td>\n",
       "      <td>2.527214e-03</td>\n",
       "      <td>9.603558e-01</td>\n",
       "      <td>3.711702e-02</td>\n",
       "      <td>8.124324e-02</td>\n",
       "      <td>1.881393e-03</td>\n",
       "      <td>1.059062e-04</td>\n",
       "      <td>2.076593e-05</td>\n",
       "      <td>3.814009e-04</td>\n",
       "      <td>3.460988e-06</td>\n",
       "      <td>9.034620e-01</td>\n",
       "      <td>3.322549e-05</td>\n",
       "      <td>1.868934e-05</td>\n",
       "      <td>1.700730e-03</td>\n",
       "      <td>1.114231e-02</td>\n",
       "      <td>5.537581e-06</td>\n",
       "      <td>1.384395e-06</td>\n",
       "    </tr>\n",
       "    <tr>\n",
       "      <th>std</th>\n",
       "      <td>1.731163e+04</td>\n",
       "      <td>2.242632e+04</td>\n",
       "      <td>4.241975e+01</td>\n",
       "      <td>7.230421e+04</td>\n",
       "      <td>2.849409e+06</td>\n",
       "      <td>1.014930e+04</td>\n",
       "      <td>5.020785e-02</td>\n",
       "      <td>1.951220e-01</td>\n",
       "      <td>1.890486e-01</td>\n",
       "      <td>2.732084e-01</td>\n",
       "      <td>4.333422e-02</td>\n",
       "      <td>1.029053e-02</td>\n",
       "      <td>4.556919e-03</td>\n",
       "      <td>1.952577e-02</td>\n",
       "      <td>1.860371e-03</td>\n",
       "      <td>2.953278e-01</td>\n",
       "      <td>5.764062e-03</td>\n",
       "      <td>4.323078e-03</td>\n",
       "      <td>4.120483e-02</td>\n",
       "      <td>1.049674e-01</td>\n",
       "      <td>2.353201e-03</td>\n",
       "      <td>1.176603e-03</td>\n",
       "    </tr>\n",
       "    <tr>\n",
       "      <th>min</th>\n",
       "      <td>0.000000e+00</td>\n",
       "      <td>0.000000e+00</td>\n",
       "      <td>0.000000e+00</td>\n",
       "      <td>0.000000e+00</td>\n",
       "      <td>0.000000e+00</td>\n",
       "      <td>0.000000e+00</td>\n",
       "      <td>0.000000e+00</td>\n",
       "      <td>0.000000e+00</td>\n",
       "      <td>0.000000e+00</td>\n",
       "      <td>0.000000e+00</td>\n",
       "      <td>0.000000e+00</td>\n",
       "      <td>0.000000e+00</td>\n",
       "      <td>0.000000e+00</td>\n",
       "      <td>0.000000e+00</td>\n",
       "      <td>0.000000e+00</td>\n",
       "      <td>0.000000e+00</td>\n",
       "      <td>0.000000e+00</td>\n",
       "      <td>0.000000e+00</td>\n",
       "      <td>0.000000e+00</td>\n",
       "      <td>0.000000e+00</td>\n",
       "      <td>0.000000e+00</td>\n",
       "      <td>0.000000e+00</td>\n",
       "    </tr>\n",
       "    <tr>\n",
       "      <th>25%</th>\n",
       "      <td>2.415900e+04</td>\n",
       "      <td>2.300000e+01</td>\n",
       "      <td>0.000000e+00</td>\n",
       "      <td>1.000000e+00</td>\n",
       "      <td>4.000000e+01</td>\n",
       "      <td>0.000000e+00</td>\n",
       "      <td>0.000000e+00</td>\n",
       "      <td>1.000000e+00</td>\n",
       "      <td>0.000000e+00</td>\n",
       "      <td>0.000000e+00</td>\n",
       "      <td>0.000000e+00</td>\n",
       "      <td>0.000000e+00</td>\n",
       "      <td>0.000000e+00</td>\n",
       "      <td>0.000000e+00</td>\n",
       "      <td>0.000000e+00</td>\n",
       "      <td>1.000000e+00</td>\n",
       "      <td>0.000000e+00</td>\n",
       "      <td>0.000000e+00</td>\n",
       "      <td>0.000000e+00</td>\n",
       "      <td>0.000000e+00</td>\n",
       "      <td>0.000000e+00</td>\n",
       "      <td>0.000000e+00</td>\n",
       "    </tr>\n",
       "    <tr>\n",
       "      <th>50%</th>\n",
       "      <td>3.811400e+04</td>\n",
       "      <td>2.323000e+03</td>\n",
       "      <td>0.000000e+00</td>\n",
       "      <td>1.000000e+00</td>\n",
       "      <td>4.000000e+01</td>\n",
       "      <td>0.000000e+00</td>\n",
       "      <td>0.000000e+00</td>\n",
       "      <td>1.000000e+00</td>\n",
       "      <td>0.000000e+00</td>\n",
       "      <td>0.000000e+00</td>\n",
       "      <td>0.000000e+00</td>\n",
       "      <td>0.000000e+00</td>\n",
       "      <td>0.000000e+00</td>\n",
       "      <td>0.000000e+00</td>\n",
       "      <td>0.000000e+00</td>\n",
       "      <td>1.000000e+00</td>\n",
       "      <td>0.000000e+00</td>\n",
       "      <td>0.000000e+00</td>\n",
       "      <td>0.000000e+00</td>\n",
       "      <td>0.000000e+00</td>\n",
       "      <td>0.000000e+00</td>\n",
       "      <td>0.000000e+00</td>\n",
       "    </tr>\n",
       "    <tr>\n",
       "      <th>75%</th>\n",
       "      <td>5.067300e+04</td>\n",
       "      <td>3.721500e+04</td>\n",
       "      <td>0.000000e+00</td>\n",
       "      <td>2.000000e+00</td>\n",
       "      <td>8.000000e+01</td>\n",
       "      <td>0.000000e+00</td>\n",
       "      <td>0.000000e+00</td>\n",
       "      <td>1.000000e+00</td>\n",
       "      <td>0.000000e+00</td>\n",
       "      <td>0.000000e+00</td>\n",
       "      <td>0.000000e+00</td>\n",
       "      <td>0.000000e+00</td>\n",
       "      <td>0.000000e+00</td>\n",
       "      <td>0.000000e+00</td>\n",
       "      <td>0.000000e+00</td>\n",
       "      <td>1.000000e+00</td>\n",
       "      <td>0.000000e+00</td>\n",
       "      <td>0.000000e+00</td>\n",
       "      <td>0.000000e+00</td>\n",
       "      <td>0.000000e+00</td>\n",
       "      <td>0.000000e+00</td>\n",
       "      <td>0.000000e+00</td>\n",
       "    </tr>\n",
       "    <tr>\n",
       "      <th>max</th>\n",
       "      <td>6.553500e+04</td>\n",
       "      <td>6.553500e+04</td>\n",
       "      <td>2.027200e+04</td>\n",
       "      <td>6.602735e+07</td>\n",
       "      <td>1.914793e+09</td>\n",
       "      <td>1.207699e+07</td>\n",
       "      <td>1.000000e+00</td>\n",
       "      <td>1.000000e+00</td>\n",
       "      <td>1.000000e+00</td>\n",
       "      <td>1.000000e+00</td>\n",
       "      <td>1.000000e+00</td>\n",
       "      <td>1.000000e+00</td>\n",
       "      <td>1.000000e+00</td>\n",
       "      <td>1.000000e+00</td>\n",
       "      <td>1.000000e+00</td>\n",
       "      <td>1.000000e+00</td>\n",
       "      <td>1.000000e+00</td>\n",
       "      <td>1.000000e+00</td>\n",
       "      <td>1.000000e+00</td>\n",
       "      <td>1.000000e+00</td>\n",
       "      <td>1.000000e+00</td>\n",
       "      <td>1.000000e+00</td>\n",
       "    </tr>\n",
       "  </tbody>\n",
       "</table>\n",
       "</div>"
      ],
      "text/plain": [
       "          id.orig_p     id.resp_p  missed_bytes     orig_pkts  orig_ip_bytes  \\\n",
       "count  1.444674e+06  1.444674e+06  1.444674e+06  1.444674e+06   1.444674e+06   \n",
       "mean   3.711644e+04  1.759793e+04  1.989258e-01  1.780510e+02   7.745525e+03   \n",
       "std    1.731163e+04  2.242632e+04  4.241975e+01  7.230421e+04   2.849409e+06   \n",
       "min    0.000000e+00  0.000000e+00  0.000000e+00  0.000000e+00   0.000000e+00   \n",
       "25%    2.415900e+04  2.300000e+01  0.000000e+00  1.000000e+00   4.000000e+01   \n",
       "50%    3.811400e+04  2.323000e+03  0.000000e+00  1.000000e+00   4.000000e+01   \n",
       "75%    5.067300e+04  3.721500e+04  0.000000e+00  2.000000e+00   8.000000e+01   \n",
       "max    6.553500e+04  6.553500e+04  2.027200e+04  6.602735e+07   1.914793e+09   \n",
       "\n",
       "       resp_ip_bytes    proto_icmp     proto_tcp     proto_udp  \\\n",
       "count   1.444674e+06  1.444674e+06  1.444674e+06  1.444674e+06   \n",
       "mean    2.846040e+01  2.527214e-03  9.603558e-01  3.711702e-02   \n",
       "std     1.014930e+04  5.020785e-02  1.951220e-01  1.890486e-01   \n",
       "min     0.000000e+00  0.000000e+00  0.000000e+00  0.000000e+00   \n",
       "25%     0.000000e+00  0.000000e+00  1.000000e+00  0.000000e+00   \n",
       "50%     0.000000e+00  0.000000e+00  1.000000e+00  0.000000e+00   \n",
       "75%     0.000000e+00  0.000000e+00  1.000000e+00  0.000000e+00   \n",
       "max     1.207699e+07  1.000000e+00  1.000000e+00  1.000000e+00   \n",
       "\n",
       "       conn_state_OTH  conn_state_REJ  conn_state_RSTO  conn_state_RSTOS0  \\\n",
       "count    1.444674e+06    1.444674e+06     1.444674e+06       1.444674e+06   \n",
       "mean     8.124324e-02    1.881393e-03     1.059062e-04       2.076593e-05   \n",
       "std      2.732084e-01    4.333422e-02     1.029053e-02       4.556919e-03   \n",
       "min      0.000000e+00    0.000000e+00     0.000000e+00       0.000000e+00   \n",
       "25%      0.000000e+00    0.000000e+00     0.000000e+00       0.000000e+00   \n",
       "50%      0.000000e+00    0.000000e+00     0.000000e+00       0.000000e+00   \n",
       "75%      0.000000e+00    0.000000e+00     0.000000e+00       0.000000e+00   \n",
       "max      1.000000e+00    1.000000e+00     1.000000e+00       1.000000e+00   \n",
       "\n",
       "       conn_state_RSTR  conn_state_RSTRH  conn_state_S0  conn_state_S1  \\\n",
       "count     1.444674e+06      1.444674e+06   1.444674e+06   1.444674e+06   \n",
       "mean      3.814009e-04      3.460988e-06   9.034620e-01   3.322549e-05   \n",
       "std       1.952577e-02      1.860371e-03   2.953278e-01   5.764062e-03   \n",
       "min       0.000000e+00      0.000000e+00   0.000000e+00   0.000000e+00   \n",
       "25%       0.000000e+00      0.000000e+00   1.000000e+00   0.000000e+00   \n",
       "50%       0.000000e+00      0.000000e+00   1.000000e+00   0.000000e+00   \n",
       "75%       0.000000e+00      0.000000e+00   1.000000e+00   0.000000e+00   \n",
       "max       1.000000e+00      1.000000e+00   1.000000e+00   1.000000e+00   \n",
       "\n",
       "       conn_state_S2  conn_state_S3  conn_state_SF  conn_state_SH  \\\n",
       "count   1.444674e+06   1.444674e+06   1.444674e+06   1.444674e+06   \n",
       "mean    1.868934e-05   1.700730e-03   1.114231e-02   5.537581e-06   \n",
       "std     4.323078e-03   4.120483e-02   1.049674e-01   2.353201e-03   \n",
       "min     0.000000e+00   0.000000e+00   0.000000e+00   0.000000e+00   \n",
       "25%     0.000000e+00   0.000000e+00   0.000000e+00   0.000000e+00   \n",
       "50%     0.000000e+00   0.000000e+00   0.000000e+00   0.000000e+00   \n",
       "75%     0.000000e+00   0.000000e+00   0.000000e+00   0.000000e+00   \n",
       "max     1.000000e+00   1.000000e+00   1.000000e+00   1.000000e+00   \n",
       "\n",
       "       conn_state_SHR  \n",
       "count    1.444674e+06  \n",
       "mean     1.384395e-06  \n",
       "std      1.176603e-03  \n",
       "min      0.000000e+00  \n",
       "25%      0.000000e+00  \n",
       "50%      0.000000e+00  \n",
       "75%      0.000000e+00  \n",
       "max      1.000000e+00  "
      ]
     },
     "execution_count": 14,
     "metadata": {},
     "output_type": "execute_result"
    }
   ],
   "source": [
    "df_c.describe()"
   ]
  },
  {
   "cell_type": "code",
   "execution_count": 16,
   "metadata": {},
   "outputs": [
    {
     "data": {
      "text/plain": [
       "-       1434039\n",
       "dns        4667\n",
       "ssh        3794\n",
       "irc        1652\n",
       "http        506\n",
       "dhcp          8\n",
       "ssl           8\n",
       "Name: service, dtype: int64"
      ]
     },
     "execution_count": 16,
     "metadata": {},
     "output_type": "execute_result"
    }
   ],
   "source": [
    "df_c['service'].value_counts()"
   ]
  },
  {
   "cell_type": "code",
   "execution_count": 17,
   "metadata": {},
   "outputs": [
    {
     "data": {
      "text/plain": [
       "0.0        1444620\n",
       "2896.0          12\n",
       "1448.0          10\n",
       "5792.0           6\n",
       "10136.0          5\n",
       "4344.0           3\n",
       "7240.0           2\n",
       "13032.0          2\n",
       "2920.0           2\n",
       "2472.0           2\n",
       "1460.0           1\n",
       "1579.0           1\n",
       "5390.0           1\n",
       "4500.0           1\n",
       "15928.0          1\n",
       "1582.0           1\n",
       "20272.0          1\n",
       "8688.0           1\n",
       "17376.0          1\n",
       "11584.0          1\n",
       "Name: missed_bytes, dtype: int64"
      ]
     },
     "execution_count": 17,
     "metadata": {},
     "output_type": "execute_result"
    }
   ],
   "source": [
    "df_c['missed_bytes'].value_counts()"
   ]
  },
  {
   "cell_type": "code",
   "execution_count": 21,
   "metadata": {},
   "outputs": [
    {
     "data": {
      "text/plain": [
       "(-            900114\n",
       " 2e-06        123801\n",
       " 5e-06         64536\n",
       " 2e-06         43172\n",
       " 6e-06         30284\n",
       "               ...  \n",
       " 2.071573          1\n",
       " 2.061328          1\n",
       " 3.006466          1\n",
       " 1.092386          1\n",
       " 16.001901         1\n",
       " Name: duration, Length: 58660, dtype: int64,\n",
       " -       900114\n",
       " 0       327484\n",
       " 0       195715\n",
       " 48        7019\n",
       " 589       3756\n",
       "          ...  \n",
       " 146          1\n",
       " 892          1\n",
       " 192          1\n",
       " 1036         1\n",
       " 412          1\n",
       " Name: orig_bytes, Length: 296, dtype: int64,\n",
       " -        900114\n",
       " 0        327595\n",
       " 0        198008\n",
       " 48         7019\n",
       " 45         2808\n",
       "           ...  \n",
       " 7313          1\n",
       " 1840          1\n",
       " 153           1\n",
       " 83119         1\n",
       " 317           1\n",
       " Name: resp_bytes, Length: 505, dtype: int64)"
      ]
     },
     "execution_count": 21,
     "metadata": {},
     "output_type": "execute_result"
    }
   ],
   "source": [
    "df_c['duration'].value_counts(), df_c['orig_bytes'].value_counts(), df_c['resp_bytes'].value_counts()"
   ]
  },
  {
   "cell_type": "code",
   "execution_count": 20,
   "metadata": {},
   "outputs": [
    {
     "data": {
      "text/html": [
       "<div>\n",
       "<style scoped>\n",
       "    .dataframe tbody tr th:only-of-type {\n",
       "        vertical-align: middle;\n",
       "    }\n",
       "\n",
       "    .dataframe tbody tr th {\n",
       "        vertical-align: top;\n",
       "    }\n",
       "\n",
       "    .dataframe thead th {\n",
       "        text-align: right;\n",
       "    }\n",
       "</style>\n",
       "<table border=\"1\" class=\"dataframe\">\n",
       "  <thead>\n",
       "    <tr style=\"text-align: right;\">\n",
       "      <th></th>\n",
       "      <th>service</th>\n",
       "      <th>missed_bytes</th>\n",
       "      <th>duration</th>\n",
       "      <th>orig_bytes</th>\n",
       "      <th>resp_bytes</th>\n",
       "    </tr>\n",
       "  </thead>\n",
       "  <tbody>\n",
       "    <tr>\n",
       "      <th>0</th>\n",
       "      <td>-</td>\n",
       "      <td>0.0</td>\n",
       "      <td>2.998796</td>\n",
       "      <td>0</td>\n",
       "      <td>0</td>\n",
       "    </tr>\n",
       "    <tr>\n",
       "      <th>1</th>\n",
       "      <td>-</td>\n",
       "      <td>0.0</td>\n",
       "      <td>-</td>\n",
       "      <td>-</td>\n",
       "      <td>-</td>\n",
       "    </tr>\n",
       "    <tr>\n",
       "      <th>2</th>\n",
       "      <td>-</td>\n",
       "      <td>0.0</td>\n",
       "      <td>-</td>\n",
       "      <td>-</td>\n",
       "      <td>-</td>\n",
       "    </tr>\n",
       "    <tr>\n",
       "      <th>3</th>\n",
       "      <td>-</td>\n",
       "      <td>0.0</td>\n",
       "      <td>2.998804</td>\n",
       "      <td>0</td>\n",
       "      <td>0</td>\n",
       "    </tr>\n",
       "    <tr>\n",
       "      <th>4</th>\n",
       "      <td>-</td>\n",
       "      <td>0.0</td>\n",
       "      <td>-</td>\n",
       "      <td>-</td>\n",
       "      <td>-</td>\n",
       "    </tr>\n",
       "    <tr>\n",
       "      <th>...</th>\n",
       "      <td>...</td>\n",
       "      <td>...</td>\n",
       "      <td>...</td>\n",
       "      <td>...</td>\n",
       "      <td>...</td>\n",
       "    </tr>\n",
       "    <tr>\n",
       "      <th>1444669</th>\n",
       "      <td>-</td>\n",
       "      <td>0.0</td>\n",
       "      <td>-</td>\n",
       "      <td>-</td>\n",
       "      <td>-</td>\n",
       "    </tr>\n",
       "    <tr>\n",
       "      <th>1444670</th>\n",
       "      <td>-</td>\n",
       "      <td>0.0</td>\n",
       "      <td>-</td>\n",
       "      <td>-</td>\n",
       "      <td>-</td>\n",
       "    </tr>\n",
       "    <tr>\n",
       "      <th>1444671</th>\n",
       "      <td>-</td>\n",
       "      <td>0.0</td>\n",
       "      <td>-</td>\n",
       "      <td>-</td>\n",
       "      <td>-</td>\n",
       "    </tr>\n",
       "    <tr>\n",
       "      <th>1444672</th>\n",
       "      <td>-</td>\n",
       "      <td>0.0</td>\n",
       "      <td>-</td>\n",
       "      <td>-</td>\n",
       "      <td>-</td>\n",
       "    </tr>\n",
       "    <tr>\n",
       "      <th>1444673</th>\n",
       "      <td>-</td>\n",
       "      <td>0.0</td>\n",
       "      <td>-</td>\n",
       "      <td>-</td>\n",
       "      <td>-</td>\n",
       "    </tr>\n",
       "  </tbody>\n",
       "</table>\n",
       "<p>1444674 rows × 5 columns</p>\n",
       "</div>"
      ],
      "text/plain": [
       "        service  missed_bytes  duration orig_bytes resp_bytes\n",
       "0             -           0.0  2.998796          0          0\n",
       "1             -           0.0         -          -          -\n",
       "2             -           0.0         -          -          -\n",
       "3             -           0.0  2.998804          0          0\n",
       "4             -           0.0         -          -          -\n",
       "...         ...           ...       ...        ...        ...\n",
       "1444669       -           0.0         -          -          -\n",
       "1444670       -           0.0         -          -          -\n",
       "1444671       -           0.0         -          -          -\n",
       "1444672       -           0.0         -          -          -\n",
       "1444673       -           0.0         -          -          -\n",
       "\n",
       "[1444674 rows x 5 columns]"
      ]
     },
     "execution_count": 20,
     "metadata": {},
     "output_type": "execute_result"
    }
   ],
   "source": [
    "df_c[['service', 'missed_bytes', 'duration','orig_bytes', 'resp_bytes']]"
   ]
  },
  {
   "cell_type": "code",
   "execution_count": null,
   "metadata": {},
   "outputs": [],
   "source": []
  }
 ],
 "metadata": {
  "kernelspec": {
   "display_name": "Python 3 (ipykernel)",
   "language": "python",
   "name": "python3"
  },
  "language_info": {
   "codemirror_mode": {
    "name": "ipython",
    "version": 3
   },
   "file_extension": ".py",
   "mimetype": "text/x-python",
   "name": "python",
   "nbconvert_exporter": "python",
   "pygments_lexer": "ipython3",
   "version": "3.9.13"
  }
 },
 "nbformat": 4,
 "nbformat_minor": 2
}
